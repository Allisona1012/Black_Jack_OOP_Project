{
 "cells": [
  {
   "cell_type": "markdown",
   "metadata": {},
   "source": [
    "## Python Blackjack\n",
    "For this project you will make a Blackjack game using Python. Click <a href=\"http://www.hitorstand.net/strategy.php\">here</a> to familiarize yourself with the the rules of the game. You won't be implementing every rule \"down to the letter\" with the game, but we will doing a simpler version of the game. This assignment will be given to further test your knowledge on object-oriented programming concepts.\n",
    "\n",
    "### Rules:\n",
    "\n",
    "`1. ` The game will have two players: the Dealer and the Player. The game will start off with a deck of 52 cards. The 52 cards will consist of 4 different suits: Clubs, Diamonds, Hearts and Spades. For each suit, there will be cards numbered 1 through 13. <br>\n",
    "**Note: No wildcards will be used in the program**\n",
    "\n",
    "`2. ` When the game begins, the dealer will shuffle the deck of cards, making them randomized. After the dealer shuffles, it will deal the player 2 cards and will deal itself 2 cards from. The Player should be able to see both of their own cards, but should only be able to see one of the Dealer's cards.\n",
    " \n",
    "`3. ` The objective of the game is for the Player to count their cards after they're dealt. If they're not satisfied with the number, they have the ability to 'Hit'. A hit allows the dealer to deal the Player one additional card. The Player can hit as many times as they'd like as long as they don't 'Bust'. A bust is when the Player is dealt cards that total more than 21.\n",
    "\n",
    "`4. ` If the dealer deals the Player cards equal to 21 on the **first** deal, the Player wins. This is referred to as Blackjack. Blackjack is **NOT** the same as getting cards that equal up to 21 after the first deal. Blackjack can only be attained on the first deal.\n",
    "\n",
    "`5. ` The Player will never see the Dealer's hand until the Player chooses to 'stand'. A Stand is when the player tells the dealer to not deal it anymore cards. Once the player chooses to Stand, the Player and the Dealer will compare their hands. Whoever has the higher number wins. Keep in mind that the Dealer can also bust. "
   ]
  },
  {
   "cell_type": "code",
   "execution_count": 1,
   "metadata": {
    "scrolled": true
   },
   "outputs": [],
   "source": [
    "# # I want to make a class to make cards for my deck. This is the blueprint for how my cards will look and act\n",
    "# class Card:\n",
    "#     #My cards all need to have a different suit and a value associated with the card.\n",
    "#     #My init is giving my card 'life'\n",
    "#     def __init__ (self, suit,value):\n",
    "#         self.suit = suit\n",
    "#         self.value = value\n",
    "        \n",
    "\n",
    "# # This is where I will put all of the information for the cards   \n",
    "# suits = ['Hearts','Diamonds', 'Clubs', 'Spades']\n",
    "# values = [i for i in range (1,14)]\n",
    "# # cards is a list of all available card combinations and it it iterating through my lists to create them. \n",
    "# cards = [(v,s) for v in values for s in suits]\n",
    "# # I need to make a deck\n",
    "# deck = [c for c in cards]\n"
   ]
  },
  {
   "cell_type": "code",
   "execution_count": 2,
   "metadata": {},
   "outputs": [],
   "source": [
    "import random\n",
    "\n",
    "# suits = ['Diamonds','Hearts','Spades', 'Clubs']\n",
    "# values = [1,2,3,4,5,6,7,8,9,10,10,10,10,11] \n",
    "# cards = ['2','3','4','5','6','7','8','9','10','J','Q','K','A']\n",
    "# #deck = [(v,s) for v in values for s in suits]\n",
    "\n",
    "\n",
    "class Card:\n",
    "    #What makes a card? suits and numbers.\n",
    "    #this is \"making\" the card\n",
    "    def __init__(self, suits, values, symbol):\n",
    "        self.suits = suits\n",
    "        self.values = values\n",
    "        self.symbol = symbol\n",
    "    #this is showing what the card is.    \n",
    "    def show_card(self):\n",
    "        print('====Showing Card====')\n",
    "        print(self.suit,self.symbol)\n",
    "        \n",
    "        \n",
    "    #when an object is called this is the description that is going to be called   \n",
    "    def __repr__(self):\n",
    "        return f'{self.values} of {self.suits}'    \n",
    "\n",
    "        \n",
    "class Deck:\n",
    "    #what makes a deck? 52 cards\n",
    "    def __init__(self, cards):\n",
    "        self.how_many_cards = cards\n",
    "        self.deck =[]\n",
    "\n",
    "    # make a deck\n",
    "    def make_a_deck(self):\n",
    "        print('====Making a Deck====')\n",
    "        suits = ['Diamonds','Hearts','Spades', 'Clubs']\n",
    "        #these values are going to be tied to the cards to help calculate the sum of a players hand.\n",
    "        values = [2,3,4,5,6,7,8,9,10,10,10,10,11] \n",
    "        cards = ['2','3','4','5','6','7','8','9','10','J','Q','K','A']\n",
    "        #iterate through the suits range \n",
    "        for s in range(4):\n",
    "            #go through all the values\n",
    "            for c in range(13):\n",
    "                self.deck.append(Card(suits[s],values[c],cards[c]))\n",
    "            \n",
    "        \n",
    "    #check to see if the deck is working\n",
    "    def show_deck(self,deck):\n",
    "        print ('====Showing the deck====')\n",
    "        #this method needs to return all the cards together as a deck\n",
    "        #print out all the cards with in the deck list \n",
    "        for card in self.deck:\n",
    "            card.show_card()\n",
    "        \n",
    "    #This is going to shuffle the deck    \n",
    "    def shuffle_deck(self):\n",
    "        print('====Shuffling Deck==== ')\n",
    "        random.shuffle(self.deck)\n",
    "        return (self.deck)\n",
    "        print(self.deck)\n",
    "        \n",
    "    #make a method to draw a card out of the deck. This will also simulate dealing a card.\n",
    "    def draw(self):\n",
    "        print('====Drawing a card====')\n",
    "        #the drawn card is equal to pulling a random card from the made deck.\n",
    "        #randint will pull a random index for us. in the parentheses we need to specify the range we would like\n",
    "        #remember that the deck gets smaller with every card drawn \n",
    "        drawn_card = self.deck[random.randint(0, len(self.deck))]\n",
    "        #card needs to be in int form \n",
    "        #pop allows the card to still be accessible \n",
    "        #index allows us to iterate \n",
    "        self.deck.pop(self.deck.index(drawn_card))\n",
    "        return drawn_card"
   ]
  },
  {
   "cell_type": "code",
   "execution_count": null,
   "metadata": {},
   "outputs": [],
   "source": []
  },
  {
   "cell_type": "code",
   "execution_count": 3,
   "metadata": {},
   "outputs": [],
   "source": [
    "deck1= Deck(52)"
   ]
  },
  {
   "cell_type": "code",
   "execution_count": 4,
   "metadata": {},
   "outputs": [
    {
     "name": "stdout",
     "output_type": "stream",
     "text": [
      "====Making a Deck====\n"
     ]
    }
   ],
   "source": [
    "deck1.make_a_deck()"
   ]
  },
  {
   "cell_type": "code",
   "execution_count": 5,
   "metadata": {},
   "outputs": [
    {
     "name": "stdout",
     "output_type": "stream",
     "text": [
      "====Shuffling Deck==== \n"
     ]
    },
    {
     "data": {
      "text/plain": [
       "[10 of Spades,\n",
       " 4 of Hearts,\n",
       " 5 of Diamonds,\n",
       " 5 of Clubs,\n",
       " 11 of Hearts,\n",
       " 6 of Spades,\n",
       " 10 of Spades,\n",
       " 10 of Clubs,\n",
       " 11 of Spades,\n",
       " 6 of Hearts,\n",
       " 7 of Diamonds,\n",
       " 7 of Hearts,\n",
       " 10 of Spades,\n",
       " 10 of Clubs,\n",
       " 10 of Diamonds,\n",
       " 3 of Hearts,\n",
       " 6 of Clubs,\n",
       " 5 of Spades,\n",
       " 7 of Spades,\n",
       " 2 of Diamonds,\n",
       " 11 of Clubs,\n",
       " 10 of Hearts,\n",
       " 4 of Spades,\n",
       " 9 of Clubs,\n",
       " 11 of Diamonds,\n",
       " 10 of Spades,\n",
       " 5 of Hearts,\n",
       " 6 of Diamonds,\n",
       " 3 of Clubs,\n",
       " 8 of Clubs,\n",
       " 4 of Diamonds,\n",
       " 8 of Diamonds,\n",
       " 10 of Diamonds,\n",
       " 10 of Diamonds,\n",
       " 8 of Spades,\n",
       " 8 of Hearts,\n",
       " 3 of Spades,\n",
       " 10 of Hearts,\n",
       " 9 of Diamonds,\n",
       " 3 of Diamonds,\n",
       " 2 of Spades,\n",
       " 4 of Clubs,\n",
       " 10 of Diamonds,\n",
       " 9 of Hearts,\n",
       " 10 of Hearts,\n",
       " 2 of Hearts,\n",
       " 10 of Clubs,\n",
       " 10 of Hearts,\n",
       " 7 of Clubs,\n",
       " 10 of Clubs,\n",
       " 9 of Spades,\n",
       " 2 of Clubs]"
      ]
     },
     "execution_count": 5,
     "metadata": {},
     "output_type": "execute_result"
    }
   ],
   "source": [
    "deck1.shuffle_deck()\n"
   ]
  },
  {
   "cell_type": "code",
   "execution_count": 6,
   "metadata": {},
   "outputs": [
    {
     "name": "stdout",
     "output_type": "stream",
     "text": [
      "====Drawing a card====\n"
     ]
    },
    {
     "data": {
      "text/plain": [
       "3 of Hearts"
      ]
     },
     "execution_count": 6,
     "metadata": {},
     "output_type": "execute_result"
    }
   ],
   "source": [
    "deck1.draw()"
   ]
  },
  {
   "cell_type": "code",
   "execution_count": null,
   "metadata": {},
   "outputs": [],
   "source": []
  }
 ],
 "metadata": {
  "kernelspec": {
   "display_name": "Python 3 (ipykernel)",
   "language": "python",
   "name": "python3"
  },
  "language_info": {
   "codemirror_mode": {
    "name": "ipython",
    "version": 3
   },
   "file_extension": ".py",
   "mimetype": "text/x-python",
   "name": "python",
   "nbconvert_exporter": "python",
   "pygments_lexer": "ipython3",
   "version": "3.9.7"
  }
 },
 "nbformat": 4,
 "nbformat_minor": 2
}
